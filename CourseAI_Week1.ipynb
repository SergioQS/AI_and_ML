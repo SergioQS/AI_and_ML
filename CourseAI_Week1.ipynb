{
  "nbformat": 4,
  "nbformat_minor": 0,
  "metadata": {
    "colab": {
      "provenance": [],
      "authorship_tag": "ABX9TyNoqzGPXkQ9CXotRg9aumCD",
      "include_colab_link": true
    },
    "kernelspec": {
      "name": "python3",
      "display_name": "Python 3"
    },
    "language_info": {
      "name": "python"
    }
  },
  "cells": [
    {
      "cell_type": "markdown",
      "metadata": {
        "id": "view-in-github",
        "colab_type": "text"
      },
      "source": [
        "<a href=\"https://colab.research.google.com/github/SergioQS/AI_and_ML/blob/main/CourseAI_Week1.ipynb\" target=\"_parent\"><img src=\"https://colab.research.google.com/assets/colab-badge.svg\" alt=\"Open In Colab\"/></a>"
      ]
    },
    {
      "cell_type": "code",
      "execution_count": 5,
      "metadata": {
        "id": "iA6HeInF3MCX"
      },
      "outputs": [],
      "source": [
        "import numpy as np"
      ]
    },
    {
      "cell_type": "code",
      "source": [
        "#creando listas\n",
        "\n",
        "listas1 = [1,5,8,10]\n",
        "print(\"listas1 = \", listas1)\n",
        "listas2 = [1,5,8,10, \"intelligencia\", False]\n",
        "print(\"listas2 = \", listas2)\n",
        "listas3 = [[2,3,5],[8,3,1],[2,7,20]]\n",
        "print(\"listas3 = \", listas3)"
      ],
      "metadata": {
        "colab": {
          "base_uri": "https://localhost:8080/"
        },
        "id": "b_dWaOy83SGM",
        "outputId": "8eb622be-9d87-4edb-c56d-8a9c9c8115fc"
      },
      "execution_count": 3,
      "outputs": [
        {
          "output_type": "stream",
          "name": "stdout",
          "text": [
            "listas1 =  [1, 5, 8, 10]\n",
            "listas2 =  [1, 5, 8, 10, 'intelligencia', False]\n",
            "listas3 =  [[2, 3, 5], [8, 3, 1], [2, 7, 20]]\n"
          ]
        }
      ]
    },
    {
      "cell_type": "code",
      "source": [
        "#Creando arreglos desde listas\n",
        "\n",
        "n = [2,3,214]\n",
        "m = np.array(n)\n",
        "print(\"tipo de dato: \", m.dtype)\n",
        "print(\"forma del arreglo: \", m.shape)\n",
        "print(\"tamaño del arreglo: \", m.size)\n",
        "print(\"dimension del arreglo \", m.ndim)\n",
        "print(m)\n"
      ],
      "metadata": {
        "colab": {
          "base_uri": "https://localhost:8080/"
        },
        "id": "lSoxi7fK30F0",
        "outputId": "bee33cc1-11b4-4ae7-f490-cf6491858360"
      },
      "execution_count": 7,
      "outputs": [
        {
          "output_type": "stream",
          "name": "stdout",
          "text": [
            "tipo de dato:  int64\n",
            "forma del arreglo:  (3,)\n",
            "tamaño del arreglo:  3\n",
            "dimension del arreglo  1\n",
            "[  2   3 214]\n"
          ]
        }
      ]
    },
    {
      "cell_type": "code",
      "source": [
        "n = [123.121]\n",
        "m = np.array(n)\n",
        "print(m.dtype)"
      ],
      "metadata": {
        "colab": {
          "base_uri": "https://localhost:8080/"
        },
        "id": "idnlCkfY478Y",
        "outputId": "932d6336-cd0d-4b06-9fb1-82daaceca395"
      },
      "execution_count": 10,
      "outputs": [
        {
          "output_type": "stream",
          "name": "stdout",
          "text": [
            "float64\n"
          ]
        }
      ]
    },
    {
      "cell_type": "code",
      "source": [
        "n = [12,2,46]\n",
        "m = np.array(n, dtype =\"float16\")\n",
        "print(\"tipo de dato: \", m.dtype)\n",
        "print(\"forma del arreglo: \", m.shape)\n",
        "print(\"tamaño del arreglo: \", m.size)\n",
        "print(\"dimension del arreglo \", m.ndim)\n",
        "print(m)"
      ],
      "metadata": {
        "colab": {
          "base_uri": "https://localhost:8080/"
        },
        "id": "inAq8z-F5lcC",
        "outputId": "03f3c9c0-f420-4988-e46e-91c1fde8443d"
      },
      "execution_count": 11,
      "outputs": [
        {
          "output_type": "stream",
          "name": "stdout",
          "text": [
            "tipo de dato:  float16\n",
            "forma del arreglo:  (3,)\n",
            "tamaño del arreglo:  3\n",
            "dimension del arreglo  1\n",
            "[12.  2. 46.]\n"
          ]
        }
      ]
    },
    {
      "cell_type": "code",
      "source": [
        "a = np.array([[1,23,14,5],\n",
        "              [4,34,324,21]])\n",
        "a.shape = (4,2)                      # Redimensionar arrays\n",
        "print(\"tipo de dato: \", a.dtype)\n",
        "print(\"forma del arreglo: \", a.shape)\n",
        "print(\"tamaño del arreglo: \", a.size)\n",
        "print(\"dimension del arreglo \", a.ndim)\n",
        "print(a)"
      ],
      "metadata": {
        "colab": {
          "base_uri": "https://localhost:8080/"
        },
        "id": "dEQZVb9tCbBT",
        "outputId": "247e90b5-2ab2-4d9d-e2ba-6581719e5437"
      },
      "execution_count": 13,
      "outputs": [
        {
          "output_type": "stream",
          "name": "stdout",
          "text": [
            "tipo de dato:  int64\n",
            "forma del arreglo:  (4, 2)\n",
            "tamaño del arreglo:  8\n",
            "dimension del arreglo  2\n",
            "[[  1  23]\n",
            " [ 14   5]\n",
            " [  4  34]\n",
            " [324  21]]\n"
          ]
        }
      ]
    },
    {
      "cell_type": "code",
      "source": [
        " #Indexación y slicing\n",
        "\n",
        " a = np.array([[1,23,14,5],\n",
        "               [4,34,324,21],\n",
        "               [3,42,2,1],\n",
        "               2,123,3])\n",
        "print(a[0])\n",
        "print(a[1][3])\n",
        "print(a[0:2])\n",
        "print(a[-1])"
      ],
      "metadata": {
        "colab": {
          "base_uri": "https://localhost:8080/"
        },
        "id": "iguqufz5C4r6",
        "outputId": "fdff503c-7b4b-4de6-9fb6-b9e7f4f8190f"
      },
      "execution_count": 18,
      "outputs": [
        {
          "output_type": "stream",
          "name": "stdout",
          "text": [
            "[1, 23, 14, 5]\n",
            "21\n",
            "[list([1, 23, 14, 5]) list([4, 34, 324, 21])]\n",
            "3\n"
          ]
        },
        {
          "output_type": "stream",
          "name": "stderr",
          "text": [
            "<ipython-input-18-9263f305e297>:3: VisibleDeprecationWarning: Creating an ndarray from ragged nested sequences (which is a list-or-tuple of lists-or-tuples-or ndarrays with different lengths or shapes) is deprecated. If you meant to do this, you must specify 'dtype=object' when creating the ndarray.\n",
            "  a = np.array([[1,23,14,5],\n"
          ]
        }
      ]
    },
    {
      "cell_type": "code",
      "source": [
        " a = np.arange(20)\n",
        " print(a)\n",
        " print(a[0:19:2])           # saltos de a 2\n",
        " print(a[-8:-1])\n",
        " print(a[12:1:-2])"
      ],
      "metadata": {
        "colab": {
          "base_uri": "https://localhost:8080/"
        },
        "id": "WvrYKKzfESK8",
        "outputId": "f1c3f33e-1236-4e26-8b8f-a119a25575c6"
      },
      "execution_count": 28,
      "outputs": [
        {
          "output_type": "stream",
          "name": "stdout",
          "text": [
            "[ 0  1  2  3  4  5  6  7  8  9 10 11 12 13 14 15 16 17 18 19]\n",
            "[ 0  2  4  6  8 10 12 14 16 18]\n",
            "[12 13 14 15 16 17 18]\n",
            "[12 10  8  6  4  2]\n",
            "[]\n"
          ]
        }
      ]
    },
    {
      "cell_type": "code",
      "source": [
        "m = np.arange(20)\n",
        "m[0:4] = [100,101,3,22223]\n",
        "print(m)"
      ],
      "metadata": {
        "colab": {
          "base_uri": "https://localhost:8080/"
        },
        "id": "OVtZta4pFO3b",
        "outputId": "60bafcbf-a206-4993-ff4d-0997ec9b8f16"
      },
      "execution_count": 41,
      "outputs": [
        {
          "output_type": "stream",
          "name": "stdout",
          "text": [
            "[  100   101     3 22223     4     5     6     7     8     9    10    11\n",
            "    12    13    14    15    16    17    18    19]\n"
          ]
        }
      ]
    }
  ]
}